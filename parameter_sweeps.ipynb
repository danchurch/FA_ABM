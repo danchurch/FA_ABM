{
 "cells": [
  {
   "cell_type": "markdown",
   "metadata": {},
   "source": [
    "# Running simulations of the Foraging Ascomycete "
   ]
  },
  {
   "cell_type": "markdown",
   "metadata": {},
   "source": [
    "Let's try some parameter sweeps with our new model. First, let's compare what happens when two fungi vary in their ability to disperse spores across the landscape, without any endophytic abilites. Our parameter sweep file will look like this:"
   ]
  },
  {
   "cell_type": "code",
   "execution_count": null,
   "metadata": {
    "collapsed": true
   },
   "outputs": [],
   "source": [
    "from FAmodel import Forest\n",
    "from FAmodel import sumendos\n",
    "from FAmodel import sumdecomps\n",
    "from FAagents import Tree, Wood, Fungus\n",
    "import numpy as np\n",
    "import matplotlib.pyplot as plt\n",
    "import thomasprocess as tp\n",
    "\n",
    "\n",
    "endo_runs = {} ## where we'll store the blue fungi's model runs\n",
    "decomp_runs = {} ## where we'll store the red fungi's model runs\n",
    "for i in [ a/10 for a in range(2,22,2) ]: ## levels of variable\n",
    "    endo_list = []\n",
    "    decomp_list = []\n",
    "    for j in range(100): ## number of simulations per level of parameter\n",
    "        losced = Forest(endophytism = False, ##settings for model\n",
    "                        endodisp=1, ## hold one fungus constant...\n",
    "                        decompdisp=i, ## sweep the other: parameter of interest\n",
    "                        )\n",
    "        for j in range(30): losced.step() ## number of steps before ending the model\n",
    "        ## data into lists\n",
    "        endo_list.append(losced.datacollector.get_model_vars_dataframe().Endophytes)\n",
    "        decomp_list.append(losced.datacollector.get_model_vars_dataframe().Decomposers)\n",
    "    endo_runs[i] = endo_list\n",
    "    decomp_runs[i] = decomp_list\n"
   ]
  }
 ],
 "metadata": {
  "kernelspec": {
   "display_name": "Python 3",
   "language": "python",
   "name": "python3"
  },
  "language_info": {
   "codemirror_mode": {
    "name": "ipython",
    "version": 3
   },
   "file_extension": ".py",
   "mimetype": "text/x-python",
   "name": "python",
   "nbconvert_exporter": "python",
   "pygments_lexer": "ipython3",
   "version": "3.5.2"
  }
 },
 "nbformat": 4,
 "nbformat_minor": 2
}
